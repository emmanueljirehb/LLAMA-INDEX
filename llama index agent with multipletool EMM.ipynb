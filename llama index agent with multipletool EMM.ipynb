{
 "cells": [
  {
   "cell_type": "code",
   "execution_count": null,
   "id": "a665008f-8012-4742-ac4c-7cdf348ca50f",
   "metadata": {},
   "outputs": [],
   "source": [
    "import os\n",
    "#os.environ[\"OPENAI_API_KEY\"]=\"\"\n",
    "os.environ[\"OPENAI_API_KEY\"]=\" insert your api key\" "
   ]
  },
  {
   "cell_type": "code",
   "execution_count": null,
   "id": "b717b13f-b9d9-4649-81cd-8504e4e8e95e",
   "metadata": {},
   "outputs": [
    {
     "name": "stdin",
     "output_type": "stream",
     "text": [
      "Ask something:  who is alice\n"
     ]
    },
    {
     "name": "stdout",
     "output_type": "stream",
     "text": [
      "Added user message to memory: who is alice\n",
      "=== Calling Function ===\n",
      "Calling function: ask_doc with args: {\"question\":\"Who is Alice?\"}\n",
      "Got output: Alice is a character in the book \"Alice in Wonderland.\"\n",
      "========================\n",
      "\n",
      "Response: Alice is a character in the book \"Alice in Wonderland.\"\n"
     ]
    }
   ],
   "source": [
    "from llama_index.core import VectorStoreIndex, SimpleDirectoryReader\n",
    "from llama_index.llms.openai import OpenAI\n",
    "from llama_index.agent.openai import OpenAIAgent\n",
    "from llama_index.core.tools.tool_spec.base import BaseToolSpec\n",
    "from typing import List\n",
    "\n",
    "# Step 1: Define a simple custom tool\n",
    "class MathTool(BaseToolSpec):\n",
    "    spec_functions = [\"add\", \"sub\", \"mul\", \"div\"]\n",
    "\n",
    "    def add(self, a: int, b: int) -> int:\n",
    "        \"\"\"Add two numbers\"\"\"\n",
    "        return a + b\n",
    "\n",
    "    def sub(self, a: int, b: int) -> int:\n",
    "        \"\"\"Subtract two numbers\"\"\"\n",
    "        return a - b\n",
    "\n",
    "    def mul(self, a: int, b: int) -> int:\n",
    "        \"\"\"Multiply two numbers\"\"\"\n",
    "        return a * b\n",
    "\n",
    "    def div(self, a: int, b: int) -> float:\n",
    "        \"\"\"Divide two numbers\"\"\"\n",
    "        return a / b\n",
    "\n",
    "# Step 2: Load document and create index\n",
    "f_path = \"D:/RAMANASOFT/alice-in-wonderland.pdf\"\n",
    "reader = SimpleDirectoryReader(input_files=[f_path])\n",
    "pdf_documents = reader.load_data()\n",
    "index = VectorStoreIndex.from_documents(pdf_documents)\n",
    "query_engine = index.as_query_engine()\n",
    "\n",
    "# Step 3: Document tool wrapper\n",
    "class DocumentTool(BaseToolSpec):\n",
    "    spec_functions = [\"ask_doc\"]\n",
    "\n",
    "    def ask_doc(self, question: str) -> str:\n",
    "        \"\"\"Answer questions based on the document\"\"\"\n",
    "        return str(query_engine.query(question))\n",
    "\n",
    "# Step 4: Set up LLM\n",
    "llm = OpenAI(model=\"gpt-3.5-turbo\", temperature=0)\n",
    "\n",
    "# Step 5: Generate tools from specs\n",
    "tools = DocumentTool().to_tool_list() + MathTool().to_tool_list()\n",
    "\n",
    "# Step 6: Create agent\n",
    "agent = OpenAIAgent.from_tools(\n",
    "    tools=tools,\n",
    "    llm=llm,\n",
    "    verbose=True,\n",
    ")\n",
    "\n",
    "# Step 7: Run chat\n",
    "if __name__ == \"__main__\":\n",
    "    while True:\n",
    "        query = input(\"Ask something: \")\n",
    "        if query.lower() in [\"exit\", \"quit\"]:\n",
    "            break\n",
    "        response = agent.chat(query)\n",
    "        print(f\"Response: {response}\")\n"
   ]
  },
  {
   "cell_type": "code",
   "execution_count": null,
   "id": "92ac489f-dd6c-44dc-bca0-e41f1b355cb8",
   "metadata": {},
   "outputs": [],
   "source": []
  }
 ],
 "metadata": {
  "kernelspec": {
   "display_name": "Python 3 (ipykernel)",
   "language": "python",
   "name": "python3"
  },
  "language_info": {
   "codemirror_mode": {
    "name": "ipython",
    "version": 3
   },
   "file_extension": ".py",
   "mimetype": "text/x-python",
   "name": "python",
   "nbconvert_exporter": "python",
   "pygments_lexer": "ipython3",
   "version": "3.12.7"
  }
 },
 "nbformat": 4,
 "nbformat_minor": 5
}
